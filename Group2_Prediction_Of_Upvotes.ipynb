{
  "nbformat": 4,
  "nbformat_minor": 0,
  "metadata": {
    "colab": {
      "name": "Group2_Prediction_Of_Upvotes.ipynb",
      "provenance": [],
      "collapsed_sections": [],
      "include_colab_link": true
    },
    "kernelspec": {
      "name": "python3",
      "display_name": "Python 3"
    }
  },
  "cells": [
    {
      "cell_type": "markdown",
      "metadata": {
        "id": "view-in-github",
        "colab_type": "text"
      },
      "source": [
        "<a href=\"https://colab.research.google.com/github/aravind1910/AdvancedDataStructures/blob/master/Group2_Prediction_Of_Upvotes.ipynb\" target=\"_parent\"><img src=\"https://colab.research.google.com/assets/colab-badge.svg\" alt=\"Open In Colab\"/></a>"
      ]
    },
    {
      "cell_type": "code",
      "metadata": {
        "id": "ah3HzErdDa7v",
        "colab_type": "code",
        "colab": {
          "base_uri": "https://localhost:8080/",
          "height": 71
        },
        "outputId": "3c24d113-db1f-49d2-ce49-eec9bab98492"
      },
      "source": [
        "import numpy as np\n",
        "import pandas as pd\n",
        "import matplotlib.pyplot as plt\n",
        "import seaborn as sb\n",
        "% matplotlib inline"
      ],
      "execution_count": 1,
      "outputs": [
        {
          "output_type": "stream",
          "text": [
            "/usr/local/lib/python3.6/dist-packages/statsmodels/tools/_testing.py:19: FutureWarning: pandas.util.testing is deprecated. Use the functions in the public API at pandas.testing instead.\n",
            "  import pandas.util.testing as tm\n"
          ],
          "name": "stderr"
        }
      ]
    },
    {
      "cell_type": "code",
      "metadata": {
        "id": "SQTOKb_jDt2n",
        "colab_type": "code",
        "colab": {}
      },
      "source": [
        "from google.colab import files\n",
        "uploaded = files.upload()"
      ],
      "execution_count": null,
      "outputs": []
    },
    {
      "cell_type": "code",
      "metadata": {
        "id": "pEObnDmIFkhC",
        "colab_type": "code",
        "colab": {}
      },
      "source": [
        "import io\n",
        "train_copy = pd.read_csv(io.BytesIO(uploaded['Train_posts.csv']))"
      ],
      "execution_count": null,
      "outputs": []
    },
    {
      "cell_type": "code",
      "metadata": {
        "id": "BTsL9e1mMPIF",
        "colab_type": "code",
        "colab": {}
      },
      "source": [
        "train_copy = pd.read_csv('Train_posts.csv')"
      ],
      "execution_count": 2,
      "outputs": []
    },
    {
      "cell_type": "code",
      "metadata": {
        "id": "VLqCaHHQLEjo",
        "colab_type": "code",
        "colab": {}
      },
      "source": [
        "from google.colab import files\n",
        "uploaded = files.upload()"
      ],
      "execution_count": null,
      "outputs": []
    },
    {
      "cell_type": "code",
      "metadata": {
        "id": "kaopsjvPLhKR",
        "colab_type": "code",
        "colab": {}
      },
      "source": [
        "import io\n",
        "test_copy = pd.read_csv(io.BytesIO(uploaded['Test_posts.csv']))"
      ],
      "execution_count": null,
      "outputs": []
    },
    {
      "cell_type": "code",
      "metadata": {
        "id": "f_-hCQGFMVvU",
        "colab_type": "code",
        "colab": {}
      },
      "source": [
        "test_copy = pd.read_csv('Test_posts.csv')"
      ],
      "execution_count": 3,
      "outputs": []
    },
    {
      "cell_type": "code",
      "metadata": {
        "id": "k9NQcvYyJCca",
        "colab_type": "code",
        "colab": {
          "base_uri": "https://localhost:8080/",
          "height": 136
        },
        "outputId": "b0f749bc-4022-4c48-ea34-fff0a3e8b6c2"
      },
      "source": [
        "!ls -all\n"
      ],
      "execution_count": 4,
      "outputs": [
        {
          "output_type": "stream",
          "text": [
            "total 16852\n",
            "drwxr-xr-x 1 root root     4096 Jul 10 08:44 .\n",
            "drwxr-xr-x 1 root root     4096 Jul 10 08:10 ..\n",
            "drwxr-xr-x 1 root root     4096 Jun 26 16:26 .config\n",
            "drwxr-xr-x 1 root root     4096 Jun 26 16:26 sample_data\n",
            "-rw-r--r-- 1 root root  4673330 Jul 10 08:30 Test_posts.csv\n",
            "-rw-r--r-- 1 root root 12564851 Jul 10 08:29 Train_posts.csv\n"
          ],
          "name": "stdout"
        }
      ]
    },
    {
      "cell_type": "code",
      "metadata": {
        "id": "krMaa_AYJMbm",
        "colab_type": "code",
        "colab": {
          "base_uri": "https://localhost:8080/",
          "height": 119
        },
        "outputId": "b7b8265a-c586-4768-d2e6-6544a3d5530b"
      },
      "source": [
        "print(train_copy.head())"
      ],
      "execution_count": 5,
      "outputs": [
        {
          "output_type": "stream",
          "text": [
            "       ID Tag  Reputation  Answers  Username    Views  Upvotes\n",
            "0   52664   a      3942.0      2.0    155623   7855.0     42.0\n",
            "1  327662   a     26046.0     12.0     21781  55801.0   1175.0\n",
            "2  468453   c      1358.0      4.0     56177   8067.0     60.0\n",
            "3   96996   a       264.0      3.0    168793  27064.0      9.0\n",
            "4  131465   c      4271.0      4.0    112223  13986.0     83.0\n"
          ],
          "name": "stdout"
        }
      ]
    },
    {
      "cell_type": "code",
      "metadata": {
        "id": "mO69JT8R2Vc1",
        "colab_type": "code",
        "colab": {
          "base_uri": "https://localhost:8080/",
          "height": 119
        },
        "outputId": "118fc0a3-0525-4ab5-e4e0-243a00ce442f"
      },
      "source": [
        "print(test_copy.head())"
      ],
      "execution_count": 7,
      "outputs": [
        {
          "output_type": "stream",
          "text": [
            "       ID Tag  Reputation  Answers  Username    Views\n",
            "0  366953   a      5645.0      3.0     50652  33200.0\n",
            "1   71864   c     24511.0      6.0     37685   2730.0\n",
            "2  141692   i       927.0      1.0    135293  21167.0\n",
            "3  316833   i        21.0      6.0    166998  18528.0\n",
            "4  440445   i      4475.0     10.0     53504  57240.0\n"
          ],
          "name": "stdout"
        }
      ]
    },
    {
      "cell_type": "code",
      "metadata": {
        "id": "Qz9cac5UJQq_",
        "colab_type": "code",
        "colab": {}
      },
      "source": [
        "#make a copy of train and test\n",
        "train=train_copy.copy()\n"
      ],
      "execution_count": 8,
      "outputs": []
    },
    {
      "cell_type": "code",
      "metadata": {
        "id": "vT42LO-RJVoX",
        "colab_type": "code",
        "colab": {
          "base_uri": "https://localhost:8080/",
          "height": 153
        },
        "outputId": "0848ab64-6fc0-4afe-a874-7ea678a58a69"
      },
      "source": [
        "#check if there are any null values\n",
        "train.isnull().sum() "
      ],
      "execution_count": 9,
      "outputs": [
        {
          "output_type": "execute_result",
          "data": {
            "text/plain": [
              "ID            0\n",
              "Tag           0\n",
              "Reputation    0\n",
              "Answers       0\n",
              "Username      0\n",
              "Views         0\n",
              "Upvotes       0\n",
              "dtype: int64"
            ]
          },
          "metadata": {
            "tags": []
          },
          "execution_count": 9
        }
      ]
    },
    {
      "cell_type": "code",
      "metadata": {
        "id": "6mdFkZtIJcGV",
        "colab_type": "code",
        "colab": {
          "base_uri": "https://localhost:8080/",
          "height": 331
        },
        "outputId": "5845b7c3-1cb8-4bc1-a690-9c747ce5632f"
      },
      "source": [
        "sb.heatmap(train.corr(),annot=True)"
      ],
      "execution_count": 10,
      "outputs": [
        {
          "output_type": "execute_result",
          "data": {
            "text/plain": [
              "<matplotlib.axes._subplots.AxesSubplot at 0x7f73960e2a20>"
            ]
          },
          "metadata": {
            "tags": []
          },
          "execution_count": 10
        },
        {
          "output_type": "display_data",
          "data": {
            "image/png": "[encoded data removed]",
            "text/plain": [
              "<Figure size 432x288 with 2 Axes>"
            ]
          },
          "metadata": {
            "tags": [],
            "needs_background": "light"
          }
        }
      ]
    },
    {
      "cell_type": "code",
      "metadata": {
        "id": "t0UtvBhjJ13f",
        "colab_type": "code",
        "colab": {
          "base_uri": "https://localhost:8080/",
          "height": 204
        },
        "outputId": "4a9d2d39-a381-4e13-f89d-f7adcef0ba32"
      },
      "source": [
        "train.drop(['ID','Username'],inplace=True,axis=1) #drop id and username as upvotes of indepedent of these columns\n",
        "train.head()\n"
      ],
      "execution_count": 11,
      "outputs": [
        {
          "output_type": "execute_result",
          "data": {
            "text/html": [
              "<div>\n",
              "<style scoped>\n",
              "    .dataframe tbody tr th:only-of-type {\n",
              "        vertical-align: middle;\n",
              "    }\n",
              "\n",
              "    .dataframe tbody tr th {\n",
              "        vertical-align: top;\n",
              "    }\n",
              "\n",
              "    .dataframe thead th {\n",
              "        text-align: right;\n",
              "    }\n",
              "</style>\n",
              "<table border=\"1\" class=\"dataframe\">\n",
              "  <thead>\n",
              "    <tr style=\"text-align: right;\">\n",
              "      <th></th>\n",
              "      <th>Tag</th>\n",
              "      <th>Reputation</th>\n",
              "      <th>Answers</th>\n",
              "      <th>Views</th>\n",
              "      <th>Upvotes</th>\n",
              "    </tr>\n",
              "  </thead>\n",
              "  <tbody>\n",
              "    <tr>\n",
              "      <th>0</th>\n",
              "      <td>a</td>\n",
              "      <td>3942.0</td>\n",
              "      <td>2.0</td>\n",
              "      <td>7855.0</td>\n",
              "      <td>42.0</td>\n",
              "    </tr>\n",
              "    <tr>\n",
              "      <th>1</th>\n",
              "      <td>a</td>\n",
              "      <td>26046.0</td>\n",
              "      <td>12.0</td>\n",
              "      <td>55801.0</td>\n",
              "      <td>1175.0</td>\n",
              "    </tr>\n",
              "    <tr>\n",
              "      <th>2</th>\n",
              "      <td>c</td>\n",
              "      <td>1358.0</td>\n",
              "      <td>4.0</td>\n",
              "      <td>8067.0</td>\n",
              "      <td>60.0</td>\n",
              "    </tr>\n",
              "    <tr>\n",
              "      <th>3</th>\n",
              "      <td>a</td>\n",
              "      <td>264.0</td>\n",
              "      <td>3.0</td>\n",
              "      <td>27064.0</td>\n",
              "      <td>9.0</td>\n",
              "    </tr>\n",
              "    <tr>\n",
              "      <th>4</th>\n",
              "      <td>c</td>\n",
              "      <td>4271.0</td>\n",
              "      <td>4.0</td>\n",
              "      <td>13986.0</td>\n",
              "      <td>83.0</td>\n",
              "    </tr>\n",
              "  </tbody>\n",
              "</table>\n",
              "</div>"
            ],
            "text/plain": [
              "  Tag  Reputation  Answers    Views  Upvotes\n",
              "0   a      3942.0      2.0   7855.0     42.0\n",
              "1   a     26046.0     12.0  55801.0   1175.0\n",
              "2   c      1358.0      4.0   8067.0     60.0\n",
              "3   a       264.0      3.0  27064.0      9.0\n",
              "4   c      4271.0      4.0  13986.0     83.0"
            ]
          },
          "metadata": {
            "tags": []
          },
          "execution_count": 11
        }
      ]
    },
    {
      "cell_type": "code",
      "metadata": {
        "id": "y1Sup3FgOlQm",
        "colab_type": "code",
        "colab": {
          "base_uri": "https://localhost:8080/",
          "height": 238
        },
        "outputId": "6cbfab78-54d1-4242-b3b5-1a2d0c570ab7"
      },
      "source": [
        "#find the values in tag column\n",
        "print(train['Tag'].unique())\n",
        "print('________________________________')\n",
        "print(train['Tag'].value_counts())"
      ],
      "execution_count": 12,
      "outputs": [
        {
          "output_type": "stream",
          "text": [
            "['a' 'c' 'r' 'j' 'p' 's' 'h' 'o' 'i' 'x']\n",
            "________________________________\n",
            "c    72458\n",
            "j    72232\n",
            "p    43407\n",
            "i    32400\n",
            "a    31695\n",
            "s    23323\n",
            "h    20564\n",
            "o    14546\n",
            "r    12442\n",
            "x     6978\n",
            "Name: Tag, dtype: int64\n"
          ],
          "name": "stdout"
        }
      ]
    },
    {
      "cell_type": "code",
      "metadata": {
        "id": "FzAyqd-JPoCl",
        "colab_type": "code",
        "colab": {
          "base_uri": "https://localhost:8080/",
          "height": 715
        },
        "outputId": "6e3114c4-8288-4a73-9787-ce3d2fe5340e"
      },
      "source": [
        "#convert categorical values into numerical values\n",
        "from sklearn.preprocessing import LabelEncoder\n",
        "le = LabelEncoder()\n",
        "training1 = train.copy()\n",
        "training1['Tag'] = le.fit_transform(train['Tag'])\n",
        "\n",
        "print(training1.head())\n",
        "\n",
        "fig, ax = plt.subplots(figsize=(10,10))  \n",
        "sb.heatmap(training1.corr(),annot=True,linewidths=0.5,ax=ax)"
      ],
      "execution_count": 13,
      "outputs": [
        {
          "output_type": "stream",
          "text": [
            "   Tag  Reputation  Answers    Views  Upvotes\n",
            "0    0      3942.0      2.0   7855.0     42.0\n",
            "1    0     26046.0     12.0  55801.0   1175.0\n",
            "2    1      1358.0      4.0   8067.0     60.0\n",
            "3    0       264.0      3.0  27064.0      9.0\n",
            "4    1      4271.0      4.0  13986.0     83.0\n"
          ],
          "name": "stdout"
        },
        {
          "output_type": "execute_result",
          "data": {
            "text/plain": [
              "<matplotlib.axes._subplots.AxesSubplot at 0x7f73915b2320>"
            ]
          },
          "metadata": {
            "tags": []
          },
          "execution_count": 13
        },
        {
          "output_type": "display_data",
          "data": {
            "image/png": "[encoded data removed]",
            "text/plain": [
              "<Figure size 720x720 with 2 Axes>"
            ]
          },
          "metadata": {
            "tags": [],
            "needs_background": "light"
          }
        }
      ]
    },
    {
      "cell_type": "code",
      "metadata": {
        "id": "6P4PmNTLQGgm",
        "colab_type": "code",
        "colab": {
          "base_uri": "https://localhost:8080/",
          "height": 476
        },
        "outputId": "e172cb12-79eb-4612-a86a-aae1d616c3a9"
      },
      "source": [
        "columns = ['Reputation',\t'Answers',\t'Views',\t'Tag']\n",
        "X = training1[columns]\n",
        "Y = training1['Upvotes'] #output\n",
        "print(X)\n",
        "print('_____________________')\n",
        "print(Y)"
      ],
      "execution_count": 14,
      "outputs": [
        {
          "output_type": "stream",
          "text": [
            "        Reputation  Answers    Views  Tag\n",
            "0           3942.0      2.0   7855.0    0\n",
            "1          26046.0     12.0  55801.0    0\n",
            "2           1358.0      4.0   8067.0    1\n",
            "3            264.0      3.0  27064.0    0\n",
            "4           4271.0      4.0  13986.0    1\n",
            "...            ...      ...      ...  ...\n",
            "330040        36.0      2.0   1063.0    1\n",
            "330041      1649.0      2.0  23319.0    1\n",
            "330042      6178.0      2.0   2453.0    1\n",
            "330043        89.0      2.0   2107.0    4\n",
            "330044      2001.0      4.0   2554.0    4\n",
            "\n",
            "[330045 rows x 4 columns]\n",
            "_____________________\n",
            "0           42.0\n",
            "1         1175.0\n",
            "2           60.0\n",
            "3            9.0\n",
            "4           83.0\n",
            "           ...  \n",
            "330040       0.0\n",
            "330041      73.0\n",
            "330042      15.0\n",
            "330043       3.0\n",
            "330044      37.0\n",
            "Name: Upvotes, Length: 330045, dtype: float64\n"
          ],
          "name": "stdout"
        }
      ]
    },
    {
      "cell_type": "code",
      "metadata": {
        "id": "_O9emVxbN3gn",
        "colab_type": "code",
        "colab": {}
      },
      "source": [
        "#divide into 80% train data and 20% test data\n",
        "from sklearn.model_selection import train_test_split\n",
        "X_train, X_test, Y_train, Y_test = train_test_split(X,Y,test_size=0.2)"
      ],
      "execution_count": 15,
      "outputs": []
    },
    {
      "cell_type": "code",
      "metadata": {
        "id": "_bDEeVvo9vYY",
        "colab_type": "code",
        "colab": {
          "base_uri": "https://localhost:8080/",
          "height": 204
        },
        "outputId": "07d843d0-2bf2-4bac-c6a6-e61df4f08495"
      },
      "source": [
        "X_train.head()"
      ],
      "execution_count": 16,
      "outputs": [
        {
          "output_type": "execute_result",
          "data": {
            "text/html": [
              "<div>\n",
              "<style scoped>\n",
              "    .dataframe tbody tr th:only-of-type {\n",
              "        vertical-align: middle;\n",
              "    }\n",
              "\n",
              "    .dataframe tbody tr th {\n",
              "        vertical-align: top;\n",
              "    }\n",
              "\n",
              "    .dataframe thead th {\n",
              "        text-align: right;\n",
              "    }\n",
              "</style>\n",
              "<table border=\"1\" class=\"dataframe\">\n",
              "  <thead>\n",
              "    <tr style=\"text-align: right;\">\n",
              "      <th></th>\n",
              "      <th>Reputation</th>\n",
              "      <th>Answers</th>\n",
              "      <th>Views</th>\n",
              "      <th>Tag</th>\n",
              "    </tr>\n",
              "  </thead>\n",
              "  <tbody>\n",
              "    <tr>\n",
              "      <th>98354</th>\n",
              "      <td>463.0</td>\n",
              "      <td>7.0</td>\n",
              "      <td>100755.0</td>\n",
              "      <td>0</td>\n",
              "    </tr>\n",
              "    <tr>\n",
              "      <th>115120</th>\n",
              "      <td>2732.0</td>\n",
              "      <td>1.0</td>\n",
              "      <td>12944.0</td>\n",
              "      <td>6</td>\n",
              "    </tr>\n",
              "    <tr>\n",
              "      <th>63395</th>\n",
              "      <td>568.0</td>\n",
              "      <td>2.0</td>\n",
              "      <td>41692.0</td>\n",
              "      <td>1</td>\n",
              "    </tr>\n",
              "    <tr>\n",
              "      <th>166919</th>\n",
              "      <td>1098.0</td>\n",
              "      <td>5.0</td>\n",
              "      <td>17390.0</td>\n",
              "      <td>0</td>\n",
              "    </tr>\n",
              "    <tr>\n",
              "      <th>243595</th>\n",
              "      <td>712.0</td>\n",
              "      <td>3.0</td>\n",
              "      <td>9838.0</td>\n",
              "      <td>7</td>\n",
              "    </tr>\n",
              "  </tbody>\n",
              "</table>\n",
              "</div>"
            ],
            "text/plain": [
              "        Reputation  Answers     Views  Tag\n",
              "98354        463.0      7.0  100755.0    0\n",
              "115120      2732.0      1.0   12944.0    6\n",
              "63395        568.0      2.0   41692.0    1\n",
              "166919      1098.0      5.0   17390.0    0\n",
              "243595       712.0      3.0    9838.0    7"
            ]
          },
          "metadata": {
            "tags": []
          },
          "execution_count": 16
        }
      ]
    },
    {
      "cell_type": "code",
      "metadata": {
        "id": "T_qKc77kMCVw",
        "colab_type": "code",
        "colab": {
          "base_uri": "https://localhost:8080/",
          "height": 204
        },
        "outputId": "a7916989-5780-47f4-ee33-0e235a80d8d3"
      },
      "source": [
        "test_copy.head()\n",
        "test = test_copy.copy()\n",
        "test.head()"
      ],
      "execution_count": 17,
      "outputs": [
        {
          "output_type": "execute_result",
          "data": {
            "text/html": [
              "<div>\n",
              "<style scoped>\n",
              "    .dataframe tbody tr th:only-of-type {\n",
              "        vertical-align: middle;\n",
              "    }\n",
              "\n",
              "    .dataframe tbody tr th {\n",
              "        vertical-align: top;\n",
              "    }\n",
              "\n",
              "    .dataframe thead th {\n",
              "        text-align: right;\n",
              "    }\n",
              "</style>\n",
              "<table border=\"1\" class=\"dataframe\">\n",
              "  <thead>\n",
              "    <tr style=\"text-align: right;\">\n",
              "      <th></th>\n",
              "      <th>ID</th>\n",
              "      <th>Tag</th>\n",
              "      <th>Reputation</th>\n",
              "      <th>Answers</th>\n",
              "      <th>Username</th>\n",
              "      <th>Views</th>\n",
              "    </tr>\n",
              "  </thead>\n",
              "  <tbody>\n",
              "    <tr>\n",
              "      <th>0</th>\n",
              "      <td>366953</td>\n",
              "      <td>a</td>\n",
              "      <td>5645.0</td>\n",
              "      <td>3.0</td>\n",
              "      <td>50652</td>\n",
              "      <td>33200.0</td>\n",
              "    </tr>\n",
              "    <tr>\n",
              "      <th>1</th>\n",
              "      <td>71864</td>\n",
              "      <td>c</td>\n",
              "      <td>24511.0</td>\n",
              "      <td>6.0</td>\n",
              "      <td>37685</td>\n",
              "      <td>2730.0</td>\n",
              "    </tr>\n",
              "    <tr>\n",
              "      <th>2</th>\n",
              "      <td>141692</td>\n",
              "      <td>i</td>\n",
              "      <td>927.0</td>\n",
              "      <td>1.0</td>\n",
              "      <td>135293</td>\n",
              "      <td>21167.0</td>\n",
              "    </tr>\n",
              "    <tr>\n",
              "      <th>3</th>\n",
              "      <td>316833</td>\n",
              "      <td>i</td>\n",
              "      <td>21.0</td>\n",
              "      <td>6.0</td>\n",
              "      <td>166998</td>\n",
              "      <td>18528.0</td>\n",
              "    </tr>\n",
              "    <tr>\n",
              "      <th>4</th>\n",
              "      <td>440445</td>\n",
              "      <td>i</td>\n",
              "      <td>4475.0</td>\n",
              "      <td>10.0</td>\n",
              "      <td>53504</td>\n",
              "      <td>57240.0</td>\n",
              "    </tr>\n",
              "  </tbody>\n",
              "</table>\n",
              "</div>"
            ],
            "text/plain": [
              "       ID Tag  Reputation  Answers  Username    Views\n",
              "0  366953   a      5645.0      3.0     50652  33200.0\n",
              "1   71864   c     24511.0      6.0     37685   2730.0\n",
              "2  141692   i       927.0      1.0    135293  21167.0\n",
              "3  316833   i        21.0      6.0    166998  18528.0\n",
              "4  440445   i      4475.0     10.0     53504  57240.0"
            ]
          },
          "metadata": {
            "tags": []
          },
          "execution_count": 17
        }
      ]
    },
    {
      "cell_type": "code",
      "metadata": {
        "id": "qqAWZDfmMKc5",
        "colab_type": "code",
        "colab": {
          "base_uri": "https://localhost:8080/",
          "height": 136
        },
        "outputId": "8470682b-f962-4aa6-ad31-a85953bb0bb4"
      },
      "source": [
        "test.isnull().sum() "
      ],
      "execution_count": 18,
      "outputs": [
        {
          "output_type": "execute_result",
          "data": {
            "text/plain": [
              "ID            0\n",
              "Tag           0\n",
              "Reputation    0\n",
              "Answers       0\n",
              "Username      0\n",
              "Views         0\n",
              "dtype: int64"
            ]
          },
          "metadata": {
            "tags": []
          },
          "execution_count": 18
        }
      ]
    },
    {
      "cell_type": "code",
      "metadata": {
        "id": "Onwm3L-KMQSI",
        "colab_type": "code",
        "colab": {
          "base_uri": "https://localhost:8080/",
          "height": 204
        },
        "outputId": "2fcb3e8d-ebb7-4cec-ec89-da6501d6558a"
      },
      "source": [
        "test.drop(['ID','Username'],inplace=True,axis=1) #drop id and username as upvotes is indepedent of these columns\n",
        "test.head()"
      ],
      "execution_count": 19,
      "outputs": [
        {
          "output_type": "execute_result",
          "data": {
            "text/html": [
              "<div>\n",
              "<style scoped>\n",
              "    .dataframe tbody tr th:only-of-type {\n",
              "        vertical-align: middle;\n",
              "    }\n",
              "\n",
              "    .dataframe tbody tr th {\n",
              "        vertical-align: top;\n",
              "    }\n",
              "\n",
              "    .dataframe thead th {\n",
              "        text-align: right;\n",
              "    }\n",
              "</style>\n",
              "<table border=\"1\" class=\"dataframe\">\n",
              "  <thead>\n",
              "    <tr style=\"text-align: right;\">\n",
              "      <th></th>\n",
              "      <th>Tag</th>\n",
              "      <th>Reputation</th>\n",
              "      <th>Answers</th>\n",
              "      <th>Views</th>\n",
              "    </tr>\n",
              "  </thead>\n",
              "  <tbody>\n",
              "    <tr>\n",
              "      <th>0</th>\n",
              "      <td>a</td>\n",
              "      <td>5645.0</td>\n",
              "      <td>3.0</td>\n",
              "      <td>33200.0</td>\n",
              "    </tr>\n",
              "    <tr>\n",
              "      <th>1</th>\n",
              "      <td>c</td>\n",
              "      <td>24511.0</td>\n",
              "      <td>6.0</td>\n",
              "      <td>2730.0</td>\n",
              "    </tr>\n",
              "    <tr>\n",
              "      <th>2</th>\n",
              "      <td>i</td>\n",
              "      <td>927.0</td>\n",
              "      <td>1.0</td>\n",
              "      <td>21167.0</td>\n",
              "    </tr>\n",
              "    <tr>\n",
              "      <th>3</th>\n",
              "      <td>i</td>\n",
              "      <td>21.0</td>\n",
              "      <td>6.0</td>\n",
              "      <td>18528.0</td>\n",
              "    </tr>\n",
              "    <tr>\n",
              "      <th>4</th>\n",
              "      <td>i</td>\n",
              "      <td>4475.0</td>\n",
              "      <td>10.0</td>\n",
              "      <td>57240.0</td>\n",
              "    </tr>\n",
              "  </tbody>\n",
              "</table>\n",
              "</div>"
            ],
            "text/plain": [
              "  Tag  Reputation  Answers    Views\n",
              "0   a      5645.0      3.0  33200.0\n",
              "1   c     24511.0      6.0   2730.0\n",
              "2   i       927.0      1.0  21167.0\n",
              "3   i        21.0      6.0  18528.0\n",
              "4   i      4475.0     10.0  57240.0"
            ]
          },
          "metadata": {
            "tags": []
          },
          "execution_count": 19
        }
      ]
    },
    {
      "cell_type": "code",
      "metadata": {
        "id": "7Wf1jGlPRepv",
        "colab_type": "code",
        "colab": {
          "base_uri": "https://localhost:8080/",
          "height": 119
        },
        "outputId": "d328dd7a-5c1c-44a3-8c0c-5396c0164cc5"
      },
      "source": [
        "from sklearn.preprocessing import LabelEncoder\n",
        "le = LabelEncoder()\n",
        "testing1 = test.copy()\n",
        "testing1['Tag'] = le.fit_transform(test['Tag'])\n",
        "print(testing1.head())"
      ],
      "execution_count": 20,
      "outputs": [
        {
          "output_type": "stream",
          "text": [
            "   Tag  Reputation  Answers    Views\n",
            "0    0      5645.0      3.0  33200.0\n",
            "1    1     24511.0      6.0   2730.0\n",
            "2    3       927.0      1.0  21167.0\n",
            "3    3        21.0      6.0  18528.0\n",
            "4    3      4475.0     10.0  57240.0\n"
          ],
          "name": "stdout"
        }
      ]
    },
    {
      "cell_type": "markdown",
      "metadata": {
        "id": "9o3rsdONi7u-",
        "colab_type": "text"
      },
      "source": [
        "**Linear Regression**"
      ]
    },
    {
      "cell_type": "code",
      "metadata": {
        "id": "RKMDgpZZODzU",
        "colab_type": "code",
        "colab": {
          "base_uri": "https://localhost:8080/",
          "height": 34
        },
        "outputId": "318d9254-7874-42ab-dc20-59947506e1a0"
      },
      "source": [
        "from sklearn.linear_model import LinearRegression\n",
        "regressor = LinearRegression()\n",
        "regressor.fit(X_train,Y_train)"
      ],
      "execution_count": 21,
      "outputs": [
        {
          "output_type": "execute_result",
          "data": {
            "text/plain": [
              "LinearRegression(copy_X=True, fit_intercept=True, n_jobs=None, normalize=False)"
            ]
          },
          "metadata": {
            "tags": []
          },
          "execution_count": 21
        }
      ]
    },
    {
      "cell_type": "code",
      "metadata": {
        "id": "i75swBKyRpuO",
        "colab_type": "code",
        "colab": {
          "base_uri": "https://localhost:8080/",
          "height": 51
        },
        "outputId": "539d9a9b-7e78-47bc-f8a4-8a6c8a22e86f"
      },
      "source": [
        "Y_pred = regressor.predict(X_test)\n",
        "Y_pred"
      ],
      "execution_count": 22,
      "outputs": [
        {
          "output_type": "execute_result",
          "data": {
            "text/plain": [
              "array([ 220.14699049, -302.30385763, -713.1906449 , ..., 1086.05384935,\n",
              "       -286.71790999, -170.69335255])"
            ]
          },
          "metadata": {
            "tags": []
          },
          "execution_count": 22
        }
      ]
    },
    {
      "cell_type": "code",
      "metadata": {
        "id": "tfZ8oUhwRzDn",
        "colab_type": "code",
        "colab": {
          "base_uri": "https://localhost:8080/",
          "height": 34
        },
        "outputId": "8bc13358-7773-42e4-d2d4-a4779d5b10a9"
      },
      "source": [
        "print(regressor.coef_) #slope"
      ],
      "execution_count": 23,
      "outputs": [
        {
          "output_type": "stream",
          "text": [
            "[ 3.49031652e-02 -4.28504150e+01  2.04860889e-02  6.61280839e+00]\n"
          ],
          "name": "stdout"
        }
      ]
    },
    {
      "cell_type": "code",
      "metadata": {
        "id": "bvZ9lmNkR4Wj",
        "colab_type": "code",
        "colab": {
          "base_uri": "https://localhost:8080/",
          "height": 34
        },
        "outputId": "a802d6c5-5a82-459c-8a3f-e71551236aca"
      },
      "source": [
        "from sklearn.metrics import r2_score\n",
        "r2_score(Y_test,Y_pred)"
      ],
      "execution_count": 24,
      "outputs": [
        {
          "output_type": "execute_result",
          "data": {
            "text/plain": [
              "0.3248005744065967"
            ]
          },
          "metadata": {
            "tags": []
          },
          "execution_count": 24
        }
      ]
    },
    {
      "cell_type": "markdown",
      "metadata": {
        "id": "AOT0y9sSf0xA",
        "colab_type": "text"
      },
      "source": [
        "**Decision Tree**"
      ]
    },
    {
      "cell_type": "code",
      "metadata": {
        "id": "QHCG-4gTdRc5",
        "colab_type": "code",
        "colab": {}
      },
      "source": [
        "from sklearn.tree import DecisionTreeRegressor\n",
        "from sklearn.metrics import accuracy_score"
      ],
      "execution_count": 25,
      "outputs": []
    },
    {
      "cell_type": "code",
      "metadata": {
        "id": "z_wkAC-2dUio",
        "colab_type": "code",
        "colab": {
          "base_uri": "https://localhost:8080/",
          "height": 119
        },
        "outputId": "f58c06d5-2062-49f6-a72f-b146a4ee94bb"
      },
      "source": [
        "#create decision tree with depth 3, max depth=40\n",
        "decision_tree =DecisionTreeRegressor(max_depth=20)\n",
        "decision_tree.fit(X_train,Y_train)"
      ],
      "execution_count": 26,
      "outputs": [
        {
          "output_type": "execute_result",
          "data": {
            "text/plain": [
              "DecisionTreeRegressor(ccp_alpha=0.0, criterion='mse', max_depth=20,\n",
              "                      max_features=None, max_leaf_nodes=None,\n",
              "                      min_impurity_decrease=0.0, min_impurity_split=None,\n",
              "                      min_samples_leaf=1, min_samples_split=2,\n",
              "                      min_weight_fraction_leaf=0.0, presort='deprecated',\n",
              "                      random_state=None, splitter='best')"
            ]
          },
          "metadata": {
            "tags": []
          },
          "execution_count": 26
        }
      ]
    },
    {
      "cell_type": "code",
      "metadata": {
        "id": "kAxdyOgsdZ4e",
        "colab_type": "code",
        "colab": {}
      },
      "source": [
        "y_pred=decision_tree.predict(X_test)"
      ],
      "execution_count": 27,
      "outputs": []
    },
    {
      "cell_type": "code",
      "metadata": {
        "id": "AlWMUTtMdch9",
        "colab_type": "code",
        "colab": {
          "base_uri": "https://localhost:8080/",
          "height": 34
        },
        "outputId": "0959b2e9-98d6-492b-b040-85e339e1284a"
      },
      "source": [
        "from sklearn.metrics import r2_score\n",
        "r2_score(Y_test,y_pred)"
      ],
      "execution_count": 28,
      "outputs": [
        {
          "output_type": "execute_result",
          "data": {
            "text/plain": [
              "0.8348590136374704"
            ]
          },
          "metadata": {
            "tags": []
          },
          "execution_count": 28
        }
      ]
    },
    {
      "cell_type": "markdown",
      "metadata": {
        "id": "SO-KnA5MgHcv",
        "colab_type": "text"
      },
      "source": [
        "**Random Forest**"
      ]
    },
    {
      "cell_type": "code",
      "metadata": {
        "id": "Pc6DX1bMfyty",
        "colab_type": "code",
        "colab": {}
      },
      "source": [
        "from sklearn.ensemble import RandomForestRegressor\n",
        "from sklearn.metrics import accuracy_score"
      ],
      "execution_count": 29,
      "outputs": []
    },
    {
      "cell_type": "code",
      "metadata": {
        "id": "xeYCl8PqgRSl",
        "colab_type": "code",
        "colab": {}
      },
      "source": [
        "rf = RandomForestRegressor(n_estimators=100, random_state= 10)"
      ],
      "execution_count": 30,
      "outputs": []
    },
    {
      "cell_type": "code",
      "metadata": {
        "id": "xnzqyG0PgVCC",
        "colab_type": "code",
        "colab": {
          "base_uri": "https://localhost:8080/",
          "height": 136
        },
        "outputId": "e4fb9579-90e2-4d98-fcc2-920d9a7cb840"
      },
      "source": [
        "rf.fit(X_train,Y_train)"
      ],
      "execution_count": 31,
      "outputs": [
        {
          "output_type": "execute_result",
          "data": {
            "text/plain": [
              "RandomForestRegressor(bootstrap=True, ccp_alpha=0.0, criterion='mse',\n",
              "                      max_depth=None, max_features='auto', max_leaf_nodes=None,\n",
              "                      max_samples=None, min_impurity_decrease=0.0,\n",
              "                      min_impurity_split=None, min_samples_leaf=1,\n",
              "                      min_samples_split=2, min_weight_fraction_leaf=0.0,\n",
              "                      n_estimators=100, n_jobs=None, oob_score=False,\n",
              "                      random_state=10, verbose=0, warm_start=False)"
            ]
          },
          "metadata": {
            "tags": []
          },
          "execution_count": 31
        }
      ]
    },
    {
      "cell_type": "code",
      "metadata": {
        "id": "v2gwHmovgsvR",
        "colab_type": "code",
        "colab": {}
      },
      "source": [
        "prediction = rf.predict(X_test)"
      ],
      "execution_count": 32,
      "outputs": []
    },
    {
      "cell_type": "code",
      "metadata": {
        "id": "QJzTVyJT9_Vq",
        "colab_type": "code",
        "colab": {
          "base_uri": "https://localhost:8080/",
          "height": 119
        },
        "outputId": "12e5a543-c92c-486d-b18d-cdee8e8c6d2c"
      },
      "source": [
        "testing1 = testing1[['Reputation','Answers', 'Views' , 'Tag']]\n",
        "print( testing1.head())"
      ],
      "execution_count": 33,
      "outputs": [
        {
          "output_type": "stream",
          "text": [
            "   Reputation  Answers    Views  Tag\n",
            "0      5645.0      3.0  33200.0    0\n",
            "1     24511.0      6.0   2730.0    1\n",
            "2       927.0      1.0  21167.0    3\n",
            "3        21.0      6.0  18528.0    3\n",
            "4      4475.0     10.0  57240.0    3\n"
          ],
          "name": "stdout"
        }
      ]
    },
    {
      "cell_type": "code",
      "metadata": {
        "id": "YXgAj5i5ga8j",
        "colab_type": "code",
        "colab": {
          "base_uri": "https://localhost:8080/",
          "height": 34
        },
        "outputId": "da5c7e51-4561-4b0d-8631-8ff9627a4939"
      },
      "source": [
        "from sklearn.metrics import r2_score\n",
        "r2_score(Y_test,y_pred)"
      ],
      "execution_count": 34,
      "outputs": [
        {
          "output_type": "execute_result",
          "data": {
            "text/plain": [
              "0.8348590136374704"
            ]
          },
          "metadata": {
            "tags": []
          },
          "execution_count": 34
        }
      ]
    },
    {
      "cell_type": "code",
      "metadata": {
        "id": "9_b_k-ZP9J8Y",
        "colab_type": "code",
        "colab": {
          "base_uri": "https://localhost:8080/",
          "height": 34
        },
        "outputId": "058e13cd-1dcc-4cb7-d3fe-3948fdb663e2"
      },
      "source": [
        "final1 = rf.predict(testing1)\n",
        "final1 = final1.astype('int64')\n",
        "print(final1)"
      ],
      "execution_count": 35,
      "outputs": [
        {
          "output_type": "stream",
          "text": [
            "[227  75  48 ...  80  16  30]\n"
          ],
          "name": "stdout"
        }
      ]
    },
    {
      "cell_type": "markdown",
      "metadata": {
        "id": "03DKG-Bo03gW",
        "colab_type": "text"
      },
      "source": [
        "**Polynomial Regression**"
      ]
    },
    {
      "cell_type": "code",
      "metadata": {
        "id": "im-QwijT06zZ",
        "colab_type": "code",
        "colab": {
          "base_uri": "https://localhost:8080/",
          "height": 34
        },
        "outputId": "ff840bc0-e961-4a0b-ae37-9b6609727071"
      },
      "source": [
        "from sklearn.preprocessing import PolynomialFeatures\n",
        "from sklearn import linear_model\n",
        "poly_regre = PolynomialFeatures(degree =2 , interaction_only=False,include_bias = True)\n",
        "X_poly = poly_regre.fit_transform(X_train)\n",
        "lin_reg = LinearRegression()\n",
        "lin_reg.fit(X_poly,Y_train)"
      ],
      "execution_count": 36,
      "outputs": [
        {
          "output_type": "execute_result",
          "data": {
            "text/plain": [
              "LinearRegression(copy_X=True, fit_intercept=True, n_jobs=None, normalize=False)"
            ]
          },
          "metadata": {
            "tags": []
          },
          "execution_count": 36
        }
      ]
    },
    {
      "cell_type": "code",
      "metadata": {
        "id": "QGV-T0Op2-GV",
        "colab_type": "code",
        "colab": {
          "base_uri": "https://localhost:8080/",
          "height": 34
        },
        "outputId": "14930234-c88b-458b-a690-ee03ae8badd0"
      },
      "source": [
        "from sklearn.metrics import r2_score\n",
        "pred = poly_regre.fit_transform(X_test)\n",
        "pred_val = lin_reg.predict(pred)\n",
        "print(r2_score(Y_test,pred_val))"
      ],
      "execution_count": 37,
      "outputs": [
        {
          "output_type": "stream",
          "text": [
            "0.9031187210588488\n"
          ],
          "name": "stdout"
        }
      ]
    },
    {
      "cell_type": "code",
      "metadata": {
        "id": "9jQjRaNM8eFU",
        "colab_type": "code",
        "colab": {
          "base_uri": "https://localhost:8080/",
          "height": 34
        },
        "outputId": "b8266810-7db6-4550-f013-3d000aa5daf0"
      },
      "source": [
        "test_data = poly_regre.fit_transform(testing1)\n",
        "final2 = lin_reg.predict(test_data)\n",
        "final2 = final2.astype('int64')\n",
        "print(final2)"
      ],
      "execution_count": 38,
      "outputs": [
        {
          "output_type": "stream",
          "text": [
            "[216 148  17 ...  60  11 -10]\n"
          ],
          "name": "stdout"
        }
      ]
    },
    {
      "cell_type": "code",
      "metadata": {
        "id": "-nqs-WjVQFCh",
        "colab_type": "code",
        "colab": {}
      },
      "source": [
        ""
      ],
      "execution_count": null,
      "outputs": []
    },
    {
      "cell_type": "markdown",
      "metadata": {
        "id": "dsf8z1W0pLhi",
        "colab_type": "text"
      },
      "source": [
        ""
      ]
    }
  ]
}